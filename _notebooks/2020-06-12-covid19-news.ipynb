{
 "cells": [
  {
   "cell_type": "markdown",
   "metadata": {},
   "source": [
    "# World News from data (good & bad)\n",
    "> Significant changes vs. 10 days ago in transmission rates, ICU demand, and cases & deaths data.\n",
    "\n",
    "- categories: [world, overview, interactive, news]\n",
    "- permalink: /covid-news/\n",
    "- author: <a href=https://github.com/artdgn/>artdgn</a>\n",
    "- toc: true\n",
    "- image: images/news.png\n",
    "- hide: false"
   ]
  },
  {
   "cell_type": "markdown",
   "metadata": {},
   "source": [
    "> Warning: This dashboard was not built by an epidemiologist.\n"
   ]
  },
  {
   "cell_type": "code",
   "execution_count": 1,
   "metadata": {},
   "outputs": [
    {
     "ename": "ModuleNotFoundError",
     "evalue": "No module named 'overview_helpers'",
     "output_type": "error",
     "traceback": [
      "\u001b[1;31m---------------------------------------------------------------------------\u001b[0m",
      "\u001b[1;31mModuleNotFoundError\u001b[0m                       Traceback (most recent call last)",
      "\u001b[1;32m<ipython-input-1-502a871ddcf4>\u001b[0m in \u001b[0;36m<module>\u001b[1;34m\u001b[0m\n\u001b[0;32m      1\u001b[0m \u001b[1;31m#hide\u001b[0m\u001b[1;33m\u001b[0m\u001b[1;33m\u001b[0m\u001b[1;33m\u001b[0m\u001b[0m\n\u001b[0;32m      2\u001b[0m \u001b[1;32mimport\u001b[0m \u001b[0mpandas\u001b[0m \u001b[1;32mas\u001b[0m \u001b[0mpd\u001b[0m\u001b[1;33m\u001b[0m\u001b[1;33m\u001b[0m\u001b[0m\n\u001b[1;32m----> 3\u001b[1;33m \u001b[1;32mimport\u001b[0m \u001b[0moverview_helpers\u001b[0m \u001b[1;32mas\u001b[0m \u001b[0mcovid_helpers\u001b[0m\u001b[1;33m\u001b[0m\u001b[1;33m\u001b[0m\u001b[0m\n\u001b[0m\u001b[0;32m      4\u001b[0m \u001b[1;33m\u001b[0m\u001b[0m\n\u001b[0;32m      5\u001b[0m \u001b[0mstylers\u001b[0m \u001b[1;33m=\u001b[0m \u001b[0mcovid_helpers\u001b[0m\u001b[1;33m.\u001b[0m\u001b[0mPandasStyling\u001b[0m\u001b[1;33m\u001b[0m\u001b[1;33m\u001b[0m\u001b[0m\n",
      "\u001b[1;31mModuleNotFoundError\u001b[0m: No module named 'overview_helpers'"
     ]
    }
   ],
   "source": [
    "#hide\n",
    "import pandas as pd\n",
    "import overview_helpers as covid_helpers\n",
    "\n",
    "stylers = covid_helpers.PandasStyling"
   ]
  },
  {
   "cell_type": "code",
   "execution_count": null,
   "metadata": {},
   "outputs": [],
   "source": [
    "#hide\n",
    "day_diff = 10\n",
    "\n",
    "cur_data = covid_helpers.CovidData()\n",
    "df_cur_all, debug_dfs = cur_data.table_with_projections(projection_days=[30], debug_dfs=True)\n",
    "df_cur = cur_data.filter_df(df_cur_all)\n",
    "\n",
    "past_data = covid_helpers.CovidData(-day_diff)\n",
    "df_past = past_data.filter_df(past_data.table_with_projections(projection_days=[day_diff-1]))"
   ]
  },
  {
   "cell_type": "code",
   "execution_count": null,
   "metadata": {
    "lines_to_next_cell": 2
   },
   "outputs": [],
   "source": [
    "#hide_input\n",
    "from IPython.display import Markdown\n",
    "past_date = pd.to_datetime(past_data.dt_cols[-1]).date().isoformat()\n",
    "Markdown(f\"***Based on data up to: {cur_data.cur_date}. \\\n",
    "            Compared to ({day_diff} days before): {past_date}***\")"
   ]
  },
  {
   "cell_type": "code",
   "execution_count": null,
   "metadata": {
    "lines_to_next_cell": 2
   },
   "outputs": [],
   "source": [
    "#hide\n",
    "df_data = df_cur.copy()\n",
    "df_data['transmission_rate_past'] = df_past['transmission_rate']\n",
    "df_data['transmission_rate_std_past'] = df_past['transmission_rate_std']\n",
    "df_data['needICU.per100k_past'] = df_past['needICU.per100k']\n",
    "\n",
    "# deaths toll changes\n",
    "df_data['Deaths.total.diff'] = df_data['Deaths.total'] - df_past['Deaths.total']\n",
    "df_data['Deaths.new.per100k.past'] = df_past['Deaths.new.per100k']\n",
    "df_data['Deaths.new.past'] = df_past['Deaths.new']\n",
    "df_data['Deaths.diff.per100k'] = df_data['Deaths.total.diff'] / (df_data['population'] / 1e5)\n",
    "\n",
    "# misses and explanations\n",
    "df_data['transmission_rate.change'] = (df_data['transmission_rate'] / df_data['transmission_rate_past']) - 1\n",
    "df_data['affected_ratio.miss'] = (df_cur['affected_ratio.est'] / df_past['affected_ratio.est.+9d']) - 1\n",
    "df_data['needICU.per100k.miss'] = (df_cur['needICU.per100k'] / df_past['needICU.per100k.+9d']) - 1\n",
    "df_data['testing_bias.change'] = (df_data['testing_bias'] / df_past['testing_bias']) - 1\n"
   ]
  },
  {
   "cell_type": "code",
   "execution_count": null,
   "metadata": {},
   "outputs": [],
   "source": [
    "#hide\n",
    "def index_format(df):\n",
    "    df = cur_data.rename_long_names(df)\n",
    "    df.index = df.apply(\n",
    "        lambda s: f\"\"\"<font size=3><b>{s['emoji_flag']} {s.name}</b></font>\"\"\", axis=1)\n",
    "    return df\n",
    "\n",
    "def emoji_flags(inds):\n",
    "    return ' '.join(df_cur.loc[inds]['emoji_flag'])"
   ]
  },
  {
   "cell_type": "markdown",
   "metadata": {},
   "source": [
    "# Transmission rate:\n",
    "> Note: \"transmission rate\" here is a measure of speed of spread of infection, and means how much of the susceptible population each infected person is infecting per day (if everyone is susceptible). E.g. 10% means that 100 infected patients will infect 10 new people per day. Related to [R0](https://en.wikipedia.org/wiki/Basic_reproduction_number). See [Methodology](#Methodology) for details of calculation."
   ]
  },
  {
   "cell_type": "code",
   "execution_count": null,
   "metadata": {},
   "outputs": [],
   "source": [
    "# hide\n",
    "def style_news_infections(df):\n",
    "    cols = {\n",
    "        'transmission_rate': '<i>Current:</i><br>Estimated<br>daily<br>transmission<br>rate',\n",
    "        'transmission_rate_past': f'<i>{day_diff} days ago:</i><br>Estimated<br>daily<br>transmission<br>rate',\n",
    "        'Cases.new.est': 'Estimated <br> <i>recent</i> cases <br> in last 5 days',\n",
    "        'needICU.per100k': 'Estimated<br>current<br>ICU need<br>per 100k<br>population',\n",
    "        'affected_ratio.est': 'Estimated <br><i>total</i><br>affected<br>population<br>percentage',\n",
    "    }\n",
    "\n",
    "    rate_norm = max(df['transmission_rate'].max(), df['transmission_rate_past'].max())\n",
    "    return (index_format(df)[cols.keys()].rename(columns=cols).style\n",
    "            .bar(subset=[cols['needICU.per100k']], color='#b21e3e', vmin=0, vmax=10)\n",
    "            .bar(subset=cols['Cases.new.est'], color='#b57b17', vmin=0)\n",
    "            .bar(subset=cols['affected_ratio.est'], color='#5dad64', vmin=0, vmax=1.0)\n",
    "            .apply(stylers.add_bar, color='#f49d5a',\n",
    "                   s_v=df['transmission_rate'] / rate_norm, subset=cols['transmission_rate'])\n",
    "            .apply(stylers.add_bar, color='#d8b193',\n",
    "                   s_v=df['transmission_rate_past'] / rate_norm, subset=cols['transmission_rate_past'])\n",
    "            .format('<b>{:.2f}</b>', subset=[cols['needICU.per100k']])\n",
    "            .format('<b>{:,.0f}</b>', subset=cols['Cases.new.est'])\n",
    "            .format('<b>{:.1%}</b>', subset=[cols['affected_ratio.est'],\n",
    "                                             cols['transmission_rate'],\n",
    "                                             cols['transmission_rate_past']], na_rep=\"-\"))"
   ]
  },
  {
   "cell_type": "code",
   "execution_count": null,
   "metadata": {},
   "outputs": [],
   "source": [
    "# hide\n",
    "rate_diff = df_data['transmission_rate'] - df_data['transmission_rate_past']\n",
    "higher_trans = (\n",
    "        (df_data['Cases.new.est'] > 100) &\n",
    "        (rate_diff > 0.02) &\n",
    "        (rate_diff > df_data['transmission_rate_std_past']) &\n",
    "        (df_data['transmission_rate_past'] != 0)  # countries reporting infrequently\n",
    ")\n",
    "new_waves = rate_diff[higher_trans].sort_values(ascending=False).index"
   ]
  },
  {
   "cell_type": "code",
   "execution_count": null,
   "metadata": {},
   "outputs": [],
   "source": [
    "# hide_input\n",
    "Markdown(f\"## &#11093; Bad news: new waves {emoji_flags(new_waves)}\")"
   ]
  },
  {
   "cell_type": "markdown",
   "metadata": {},
   "source": [
    "> Large increase in transmission rate vs. 10 days ago, that might mean a relapse, new wave, worsening outbreak.\n",
    "\n",
    "- Countries are sorted by size of change in transmission rate.\n",
    "- Includes only countries that were previously active (more than 100 estimated new cases).\n",
    "- \"Large increase\" = at least +2% change."
   ]
  },
  {
   "cell_type": "code",
   "execution_count": null,
   "metadata": {},
   "outputs": [],
   "source": [
    "# hide_input\n",
    "style_news_infections(df_data.loc[new_waves])"
   ]
  },
  {
   "cell_type": "code",
   "execution_count": null,
   "metadata": {},
   "outputs": [],
   "source": [
    "# hide\n",
    "df_alt_all = pd.concat([d.reset_index() for d in debug_dfs], axis=0)\n",
    "\n",
    "def infected_plots(countries, title):\n",
    "    return covid_helpers.altair_multiple_countries_infected(\n",
    "        df_alt_all, countries=countries, title=title, marker_day=day_diff)"
   ]
  },
  {
   "cell_type": "markdown",
   "metadata": {},
   "source": [
    "> Tip: Click country name in legend to switch countries. Uze mouse wheel to zoom Y axis."
   ]
  },
  {
   "cell_type": "code",
   "execution_count": null,
   "metadata": {},
   "outputs": [],
   "source": [
    "#hide_input\n",
    "infected_plots(new_waves, \"Countries with new waves (vs. 10 days ago)\")"
   ]
  },
  {
   "cell_type": "code",
   "execution_count": null,
   "metadata": {},
   "outputs": [],
   "source": [
    "#hide\n",
    "lower_trans = (\n",
    "        (rate_diff < -0.02) &\n",
    "        (df_cur['Cases.new.est'] > 100) &\n",
    "        (rate_diff.abs() > df_data['transmission_rate_std']) &\n",
    "        (df_data['transmission_rate'] != 0)  # countries reporting infrequently\n",
    ")\n",
    "slowing_outbreaks = rate_diff[lower_trans].sort_values().index"
   ]
  },
  {
   "cell_type": "code",
   "execution_count": null,
   "metadata": {},
   "outputs": [],
   "source": [
    "#hide_input\n",
    "Markdown(f\"## &#128994; Good news: slowing waves {emoji_flags(slowing_outbreaks)}\")"
   ]
  },
  {
   "cell_type": "markdown",
   "metadata": {},
   "source": [
    "> Large decrease in transmission rate vs. 10 days ago, that might mean a slowing down / effective control measures.\n",
    "\n",
    "- Countries are sorted by size of change in transmission rate.\n",
    "- Includes only countries that were previously active (more than 100 estimated new cases).\n",
    "- \"Large decrease\" = at least -2% change."
   ]
  },
  {
   "cell_type": "code",
   "execution_count": null,
   "metadata": {},
   "outputs": [],
   "source": [
    "#hide_input\n",
    "style_news_infections(df_data.loc[slowing_outbreaks])"
   ]
  },
  {
   "cell_type": "markdown",
   "metadata": {},
   "source": [
    "> Tip: Click country name in legend to switch countries. Uze mouse wheel to zoom Y axis."
   ]
  },
  {
   "cell_type": "code",
   "execution_count": null,
   "metadata": {
    "lines_to_next_cell": 1
   },
   "outputs": [],
   "source": [
    "#hide_input\n",
    "infected_plots(slowing_outbreaks, \"Countries with slowing waves (vs. 10 days ago)\")"
   ]
  },
  {
   "cell_type": "markdown",
   "metadata": {},
   "source": [
    "# ICU need"
   ]
  },
  {
   "cell_type": "code",
   "execution_count": null,
   "metadata": {},
   "outputs": [],
   "source": [
    "# hide\n",
    "def style_news_icu(df):\n",
    "    cols = {\n",
    "        'needICU.per100k': '<i>Current:</i><br>Estimated<br>ICU need<br>per 100k<br>population',\n",
    "        'needICU.per100k_past': f'<i>{day_diff} days ago:</i><br>Estimated<br>ICU need<br>per 100k<br>population',\n",
    "        'Cases.new.est': 'Estimated<br><i>recent</i> cases<br> in last 5 days',\n",
    "        'transmission_rate': 'Estimated<br>daily<br>transmission<br>rate',\n",
    "        'affected_ratio.est': 'Estimated <br><i>total</i><br>affected<br>population<br>percentage',\n",
    "    }\n",
    "\n",
    "    return (index_format(df)[cols.keys()].rename(columns=cols).style\n",
    "            .bar(subset=cols['needICU.per100k'], color='#b21e3e', vmin=0, vmax=10)\n",
    "            .bar(subset=cols['needICU.per100k_past'], color='#c67f8e', vmin=0, vmax=10)\n",
    "            .bar(subset=cols['Cases.new.est'], color='#b57b17', vmin=0)\n",
    "            .bar(subset=cols['affected_ratio.est'], color='#5dad64', vmin=0, vmax=1.0)\n",
    "            .apply(stylers.add_bar, color='#f49d5a',\n",
    "                   s_v=df['transmission_rate'] / df['transmission_rate'].max(),\n",
    "                   subset=cols['transmission_rate'])\n",
    "            .format('<b>{:.2f}</b>', subset=[cols['needICU.per100k'], cols['needICU.per100k_past']])\n",
    "            .format('<b>{:,.0f}</b>', subset=cols['Cases.new.est'])\n",
    "            .format('<b>{:.1%}</b>', subset=[cols['affected_ratio.est'],\n",
    "                                             cols['transmission_rate']]))"
   ]
  },
  {
   "cell_type": "code",
   "execution_count": null,
   "metadata": {},
   "outputs": [],
   "source": [
    "# hide\n",
    "icu_diff = df_cur['needICU.per100k'] - df_past['needICU.per100k']\n",
    "icu_increase = icu_diff[icu_diff > 0.5].sort_values(ascending=False).index"
   ]
  },
  {
   "cell_type": "code",
   "execution_count": null,
   "metadata": {},
   "outputs": [],
   "source": [
    "# hide_input\n",
    "Markdown(f\"## &#11093; Bad news: higher ICU need {emoji_flags(icu_increase)}\")"
   ]
  },
  {
   "cell_type": "markdown",
   "metadata": {},
   "source": [
    "> Large increases in need for ICU beds per 100k population vs. 10 days ago.\n",
    "\n",
    "- Only countries for which the ICU need increased by more than 0.5 (per 100k)."
   ]
  },
  {
   "cell_type": "code",
   "execution_count": null,
   "metadata": {},
   "outputs": [],
   "source": [
    "# hide_input\n",
    "style_news_icu(df_data.loc[icu_increase])"
   ]
  },
  {
   "cell_type": "markdown",
   "metadata": {},
   "source": [
    "> Tip: Click country name in legend to switch countries. Uze mouse wheel to zoom Y axis."
   ]
  },
  {
   "cell_type": "code",
   "execution_count": null,
   "metadata": {},
   "outputs": [],
   "source": [
    "# hide_input\n",
    "infected_plots(icu_increase, \"Countries with Higher ICU need (vs. 10 days ago)\")"
   ]
  },
  {
   "cell_type": "code",
   "execution_count": null,
   "metadata": {},
   "outputs": [],
   "source": [
    "# hide\n",
    "icu_decrease = icu_diff[icu_diff < -0.5].sort_values().index"
   ]
  },
  {
   "cell_type": "code",
   "execution_count": null,
   "metadata": {
    "lines_to_next_cell": 2
   },
   "outputs": [],
   "source": [
    "# hide_input\n",
    "Markdown(f\"## &#128994; Good news: lower ICU need {emoji_flags(icu_decrease)}\")"
   ]
  },
  {
   "cell_type": "markdown",
   "metadata": {},
   "source": [
    "> Large decreases in need for ICU beds per 100k population vs. 10 days ago.\n",
    "\n",
    "- Only countries for which the ICU need decreased by more than 0.5 (per 100k)."
   ]
  },
  {
   "cell_type": "code",
   "execution_count": null,
   "metadata": {},
   "outputs": [],
   "source": [
    "# hide_input\n",
    "style_news_icu(df_data.loc[icu_decrease])"
   ]
  },
  {
   "cell_type": "markdown",
   "metadata": {},
   "source": [
    "> Tip: Click country name in legend to switch countries. Uze mouse wheel to zoom Y axis."
   ]
  },
  {
   "cell_type": "code",
   "execution_count": null,
   "metadata": {},
   "outputs": [],
   "source": [
    "# hide_input\n",
    "infected_plots(icu_decrease, \"Countries with Lower ICU need (vs. 10 days ago)\")"
   ]
  },
  {
   "cell_type": "markdown",
   "metadata": {},
   "source": [
    "# New cases and deaths:"
   ]
  },
  {
   "cell_type": "code",
   "execution_count": null,
   "metadata": {},
   "outputs": [],
   "source": [
    "# hide\n",
    "new_entries = df_cur.index[~df_cur.index.isin(df_past.index)]"
   ]
  },
  {
   "cell_type": "code",
   "execution_count": null,
   "metadata": {},
   "outputs": [],
   "source": [
    "# hide_input\n",
    "Markdown(f\"## &#11093; Bad news: new first significant outbreaks {emoji_flags(new_entries)}\")"
   ]
  },
  {
   "cell_type": "markdown",
   "metadata": {},
   "source": [
    "> Countries that have started their first significant outbreak (crossed 1000 total reported cases or 20 deaths) vs. 10 days ago."
   ]
  },
  {
   "cell_type": "code",
   "execution_count": null,
   "metadata": {},
   "outputs": [],
   "source": [
    "# hide_input\n",
    "style_news_infections(df_data.loc[new_entries])"
   ]
  },
  {
   "cell_type": "markdown",
   "metadata": {},
   "source": [
    "> Tip: Click country name in legend to switch countries. Uze mouse wheel to zoom Y axis."
   ]
  },
  {
   "cell_type": "code",
   "execution_count": null,
   "metadata": {},
   "outputs": [],
   "source": [
    "# hide_input\n",
    "infected_plots(new_entries, \"Countries with first large outbreak (vs. 10 days ago)\")"
   ]
  },
  {
   "cell_type": "code",
   "execution_count": null,
   "metadata": {},
   "outputs": [],
   "source": [
    "# hide\n",
    "def style_no_news(df):\n",
    "    cols = {\n",
    "        'Cases.total.est': 'Estimated<br>total<br>cases',\n",
    "        'Deaths.total': 'Total<br>reported<br>deaths',\n",
    "        'last_case_date': 'Date<br>of last<br>reported case',\n",
    "        'last_death_date': 'Date<br>of last<br>reported death',\n",
    "    }\n",
    "    return (index_format(df)[cols.keys()].rename(columns=cols).style\n",
    "            .format('<b>{:,.0f}</b>', subset=[cols['Cases.total.est'], cols['Deaths.total']]))"
   ]
  },
  {
   "cell_type": "code",
   "execution_count": null,
   "metadata": {},
   "outputs": [],
   "source": [
    "# hide\n",
    "significant_past = ((df_past['Cases.total.est'] > 1000) & (df_past['Deaths.total'] > 10))\n",
    "active_in_past = ((df_past['Cases.new'] > 0) | (df_past['Deaths.new'] > 0))\n",
    "no_cases_filt = ((df_cur['Cases.total'] - df_past['Cases.total']) == 0)\n",
    "no_deaths_filt = ((df_cur['Deaths.total'] - df_past['Deaths.total']) == 0)\n",
    "no_cases_and_deaths = df_cur.loc[no_cases_filt & no_deaths_filt &\n",
    "                                 significant_past & active_in_past].index"
   ]
  },
  {
   "cell_type": "code",
   "execution_count": null,
   "metadata": {},
   "outputs": [],
   "source": [
    "# hide_input\n",
    "Markdown(f\"## &#128994; Good news: no new cases or deaths {emoji_flags(no_cases_and_deaths)}\")"
   ]
  },
  {
   "cell_type": "markdown",
   "metadata": {},
   "source": [
    "> New countries with no new cases or deaths vs. 10 days ago.\n",
    "\n",
    "- Only considering countries that had at least 1000 estimated total cases and at least 10 total deaths and had an active outbreak previously."
   ]
  },
  {
   "cell_type": "code",
   "execution_count": null,
   "metadata": {},
   "outputs": [],
   "source": [
    "# hide_input\n",
    "style_no_news(df_data.loc[no_cases_and_deaths])"
   ]
  },
  {
   "cell_type": "markdown",
   "metadata": {},
   "source": [
    "> Tip: Click country name in legend to switch countries. Uze mouse wheel to zoom Y axis."
   ]
  },
  {
   "cell_type": "code",
   "execution_count": null,
   "metadata": {},
   "outputs": [],
   "source": [
    "# hide_input\n",
    "infected_plots(no_cases_and_deaths, \"New countries with no new cases or deaths (vs. 10 days ago)\")"
   ]
  },
  {
   "cell_type": "code",
   "execution_count": null,
   "metadata": {},
   "outputs": [],
   "source": [
    "# hide\n",
    "no_deaths = df_cur.loc[no_deaths_filt & (~no_cases_filt) &\n",
    "                       significant_past & active_in_past].index"
   ]
  },
  {
   "cell_type": "code",
   "execution_count": null,
   "metadata": {},
   "outputs": [],
   "source": [
    "# hide_input\n",
    "Markdown(f\"## Mixed news: no new deaths, only new cases {emoji_flags(no_deaths)}\")"
   ]
  },
  {
   "cell_type": "markdown",
   "metadata": {},
   "source": [
    "> New countries with no new deaths (only new cases) vs. 10 days ago.\n",
    "\n",
    "- Only considering countries that had at least 1000 estimated total cases and at least 10 total deaths and had an active outbreak previously."
   ]
  },
  {
   "cell_type": "code",
   "execution_count": null,
   "metadata": {},
   "outputs": [],
   "source": [
    "# hide_input\n",
    "style_news_infections(df_data.loc[no_deaths])"
   ]
  },
  {
   "cell_type": "markdown",
   "metadata": {},
   "source": [
    "> Tip: Click country name in legend to switch countries. Uze mouse wheel to zoom Y axis."
   ]
  },
  {
   "cell_type": "code",
   "execution_count": null,
   "metadata": {},
   "outputs": [],
   "source": [
    "# hide_input\n",
    "infected_plots(no_deaths, \"Countries with only new cases (vs. 10 days ago)\")"
   ]
  },
  {
   "cell_type": "code",
   "execution_count": null,
   "metadata": {},
   "outputs": [],
   "source": [
    "# hide\n",
    "not_active = df_cur.loc[no_cases_filt & significant_past & ~active_in_past].index"
   ]
  },
  {
   "cell_type": "code",
   "execution_count": null,
   "metadata": {},
   "outputs": [],
   "source": [
    "# hide_input\n",
    "Markdown(f\"## No news: continously inactive countries {emoji_flags(not_active)}\")"
   ]
  },
  {
   "cell_type": "markdown",
   "metadata": {},
   "source": [
    "> Countries that had no new cases or deaths 10 days ago or now.\n",
    "\n",
    "- Only considering countries that had at least 1000 estimated total cases and at least 10 total deaths.\n",
    "- Caveat:  these countries may have stopped reporting data like [Tanzania](https://en.wikipedia.org/wiki/COVID-19_pandemic_in_Tanzania)."
   ]
  },
  {
   "cell_type": "code",
   "execution_count": null,
   "metadata": {},
   "outputs": [],
   "source": [
    "# hide_input\n",
    "style_no_news(df_data.loc[not_active])"
   ]
  },
  {
   "cell_type": "markdown",
   "metadata": {},
   "source": [
    "> Tip: Click country name in legend to switch countries. Uze mouse wheel to zoom Y axis."
   ]
  },
  {
   "cell_type": "code",
   "execution_count": null,
   "metadata": {},
   "outputs": [],
   "source": [
    "# hide_input\n",
    "infected_plots(not_active, \"Continuosly inactive countries (now and 10 days ago)\")"
   ]
  },
  {
   "cell_type": "markdown",
   "metadata": {},
   "source": [
    "# Deaths burden:"
   ]
  },
  {
   "cell_type": "code",
   "execution_count": null,
   "metadata": {},
   "outputs": [],
   "source": [
    "# hide\n",
    "def style_death_burden(df):\n",
    "    df = index_format(df)\n",
    "    cols = {\n",
    "        'Deaths.new.per100k': f'<i>Current</i>:<br>{cur_data.PREV_LAG} day<br>death<br>burden<br>per 100k',\n",
    "        'Deaths.new.per100k.past': f'<i>{day_diff} days ago</i>:<br>{cur_data.PREV_LAG} day<br>death<br>burden<br>per 100k',\n",
    "        'Deaths.total.diff': f'New<br>reported deaths<br>since {day_diff}<br>days ago',\n",
    "        'needICU.per100k': 'Estimated<br>current<br>ICU need<br>per 100k<br>population',\n",
    "        'affected_ratio.est': 'Estimated <br><i>total</i><br>affected<br>population<br>percentage',\n",
    "    }\n",
    "    death_norm = max(df['Deaths.new.per100k'].max(), df['Deaths.new.per100k.past'].max())\n",
    "    return (df[cols.keys()].rename(columns=cols).style\n",
    "            .bar(subset=cols['needICU.per100k'], color='#b21e3e', vmin=0, vmax=10)\n",
    "            .bar(subset=cols['Deaths.new.per100k'], color='#7b7a7c', vmin=0, vmax=death_norm)\n",
    "            .bar(subset=cols['Deaths.new.per100k.past'], color='#918f93', vmin=0, vmax=death_norm)\n",
    "            .bar(subset=cols['Deaths.total.diff'], color='#6b595d', vmin=0)\n",
    "            .bar(subset=cols['affected_ratio.est'], color='#5dad64', vmin=0, vmax=1.0)\n",
    "            .format('<b>{:.0f}</b>', subset=[cols['Deaths.total.diff'],\n",
    "                                             ])\n",
    "            .format('<b>{:.1f}</b>', subset=cols['needICU.per100k'])\n",
    "            .format('<b>{:.2f}</b>', subset=[cols['Deaths.new.per100k'],\n",
    "                                             cols['Deaths.new.per100k.past']])\n",
    "            .format('<b>{:.1%}</b>', subset=[cols['affected_ratio.est']], na_rep=\"-\"))"
   ]
  },
  {
   "cell_type": "code",
   "execution_count": null,
   "metadata": {},
   "outputs": [],
   "source": [
    "# hide\n",
    "death_change_ratio = df_data['Deaths.new.per100k'] / df_data['Deaths.new.per100k.past']\n",
    "filt = (\n",
    "        (df_data['Deaths.new'] > 10) &\n",
    "        (df_data['Deaths.new.past'] > 10) &\n",
    "        (df_data['Deaths.new.per100k'] > 0.1) &\n",
    "        (death_change_ratio > 2))\n",
    "higher_death_burden = df_data[filt]['Deaths.diff.per100k'].sort_values(ascending=False).index"
   ]
  },
  {
   "cell_type": "code",
   "execution_count": null,
   "metadata": {},
   "outputs": [],
   "source": [
    "# hide_input\n",
    "Markdown(f\"## &#11093; Bad news: higher death burden {emoji_flags(higher_death_burden)}\")"
   ]
  },
  {
   "cell_type": "markdown",
   "metadata": {},
   "source": [
    "> Countries with significantly higher recent death burden per 100k population vs. 10 days ago.\n",
    "\n",
    "- \"Significantly higher\" = 100% more.\n",
    "- Only considering countries that had at least 10 recent deaths in both timeframes, and death burden of at least 0.1 per 100k."
   ]
  },
  {
   "cell_type": "code",
   "execution_count": null,
   "metadata": {},
   "outputs": [],
   "source": [
    "# hide_input\n",
    "style_death_burden(df_data.loc[higher_death_burden])"
   ]
  },
  {
   "cell_type": "code",
   "execution_count": null,
   "metadata": {},
   "outputs": [],
   "source": [
    "# hide_input\n",
    "infected_plots(higher_death_burden, \"Countries with higher death burden (vs. 10 days ago)\")"
   ]
  },
  {
   "cell_type": "code",
   "execution_count": null,
   "metadata": {},
   "outputs": [],
   "source": [
    "# hide\n",
    "filt = (\n",
    "        (df_data['Deaths.new'] > 10) &\n",
    "        (df_data['Deaths.new.past'] > 10) &\n",
    "        (df_data['Deaths.new.per100k.past'] > 0.1) &\n",
    "        (death_change_ratio < 0.5))\n",
    "lower_death_burden = df_data[filt]['Deaths.diff.per100k'].sort_values(ascending=False).index"
   ]
  },
  {
   "cell_type": "code",
   "execution_count": null,
   "metadata": {},
   "outputs": [],
   "source": [
    "# hide_input\n",
    "Markdown(f\"## &#128994; Good news: lower death burden {emoji_flags(lower_death_burden)}\")"
   ]
  },
  {
   "cell_type": "markdown",
   "metadata": {},
   "source": [
    "> Countries with significantly lower recent death burden per 100k population vs. 10 days ago.\n",
    "\n",
    "- \"Significantly lower\" = 50% less\n",
    "- Only considering countries that had at least 10 recent deaths in both timeframes, and death burden of at least 0.1 per 100k."
   ]
  },
  {
   "cell_type": "code",
   "execution_count": null,
   "metadata": {},
   "outputs": [],
   "source": [
    "# hide_input\n",
    "style_death_burden(df_data.loc[lower_death_burden])"
   ]
  },
  {
   "cell_type": "code",
   "execution_count": null,
   "metadata": {},
   "outputs": [],
   "source": [
    "# hide_input\n",
    "infected_plots(lower_death_burden, \"Countries with lower death burden (vs. 10 days ago)\")"
   ]
  },
  {
   "cell_type": "markdown",
   "metadata": {},
   "source": [
    "# Appendix:"
   ]
  },
  {
   "cell_type": "markdown",
   "metadata": {},
   "source": [
    "> Note: For interactive map, per country details, projections, and modeling methodology see [Projections of ICU need by Country dashboard](/covid-progress-projections/)"
   ]
  },
  {
   "cell_type": "markdown",
   "metadata": {},
   "source": [
    "> Warning: the visualisation below contains the results of a predictive model that was not built by an epidemiologist."
   ]
  },
  {
   "cell_type": "markdown",
   "metadata": {},
   "source": [
    "## Future model projections plots per country\n",
    "> For countries in any of the above groups."
   ]
  },
  {
   "cell_type": "markdown",
   "metadata": {},
   "source": [
    "> Tip: Choose country from the drop-down below the graph."
   ]
  },
  {
   "cell_type": "code",
   "execution_count": null,
   "metadata": {},
   "outputs": [],
   "source": [
    "#hide_input\n",
    "all_news = (new_waves, slowing_outbreaks, \n",
    "            icu_increase, icu_decrease,\n",
    "            higher_death_burden, lower_death_burden,\n",
    "            not_active, no_deaths, no_cases_and_deaths, new_entries)\n",
    "news_countries = [c for g in all_news for c in g]\n",
    "df_alt_filt = df_alt_all[(df_alt_all['day'] > -60) & \n",
    "                         (df_alt_all['country'].isin(news_countries))]\n",
    "covid_helpers.altair_sir_plot(df_alt_filt, new_waves[0])"
   ]
  },
  {
   "cell_type": "markdown",
   "metadata": {},
   "source": [
    "## Future World projections (all countries stacked)\n",
    "The outputs of the models for all countries in stacked plots.\n",
    "> Tip: Hover the mouse of the area to see which country is which and the countries S/I/R ratios at that point. \n",
    "\n",
    "> Tip: The plots are zoomable and draggable."
   ]
  },
  {
   "cell_type": "code",
   "execution_count": null,
   "metadata": {},
   "outputs": [],
   "source": [
    "#hide\n",
    "df_tot = df_alt_all.rename(columns={'country': cur_data.COL_REGION}\n",
    "                          ).set_index(cur_data.COL_REGION)\n",
    "df_tot['population'] = df_cur_all['population']\n",
    "for c in df_tot.columns[df_alt_all.dtypes == float]:\n",
    "    df_tot[c + '-total'] = df_tot[c] * df_tot['population']\n",
    "df_tot = df_tot.reset_index()\n",
    "df_tot.columns = [c.replace('.', '-') for c in df_tot.columns]"
   ]
  },
  {
   "cell_type": "code",
   "execution_count": null,
   "metadata": {},
   "outputs": [],
   "source": [
    "#hide\n",
    "# filter by days\n",
    "df_tot = df_tot[(df_tot['day'].between(-30, 30) & (df_tot['day'] % 3 == 0)) | (df_tot['day'] % 10 == 0)]\n",
    "\n",
    "# filter out noisy countries for actively infected plot:\n",
    "df_tot_filt = df_tot[df_tot[cur_data.COL_REGION].isin(df_cur.index.unique())]"
   ]
  },
  {
   "cell_type": "markdown",
   "metadata": {},
   "source": [
    "### World total estimated actively infected"
   ]
  },
  {
   "cell_type": "code",
   "execution_count": null,
   "metadata": {},
   "outputs": [],
   "source": [
    "#hide_input\n",
    "import altair as alt\n",
    "alt.data_transformers.disable_max_rows()\n",
    "\n",
    "# today\n",
    "today_line = (alt.Chart(pd.DataFrame({'x': [0]}))\n",
    "                  .mark_rule(color='orange')\n",
    "                  .encode(x='x', size=alt.value(1)))\n",
    "\n",
    "# make plot\n",
    "max_y = df_tot_filt[df_tot_filt['day']==30]['Infected-total'].sum()\n",
    "stacked_inf = alt.Chart(df_tot_filt).mark_area().encode(\n",
    "    x=alt.X('day:Q',\n",
    "            title=f'days relative to today ({cur_data.cur_date})',\n",
    "            scale=alt.Scale(domain=(-30, 30))),\n",
    "    y=alt.Y(\"Infected-total:Q\", stack=True, title=\"Number of people\",\n",
    "           scale=alt.Scale(domain=(0, max_y))),\n",
    "    color=alt.Color(\"Country/Region:N\", legend=None),\n",
    "    tooltip=['Country/Region', 'Susceptible', 'Infected', 'Removed'],    \n",
    ")\n",
    "(stacked_inf + today_line).interactive()\\\n",
    ".properties(width=650, height=340)\\\n",
    ".properties(title='Actively infected')\\\n",
    ".configure_title(fontSize=20)"
   ]
  },
  {
   "cell_type": "markdown",
   "metadata": {},
   "source": [
    "### World total estimated recovered or dead"
   ]
  },
  {
   "cell_type": "code",
   "execution_count": null,
   "metadata": {},
   "outputs": [],
   "source": [
    "#hide_input\n",
    "max_y = df_tot_filt[df_tot_filt['day']==30]['Removed-total'].sum()\n",
    "stacked_rem = alt.Chart(df_tot_filt).mark_area().encode(\n",
    "    x=alt.X('day:Q',\n",
    "            title=f'days relative to today ({cur_data.cur_date})',\n",
    "            scale=alt.Scale(domain=(-30, 30))),\n",
    "    y=alt.Y(\"Removed-total:Q\", stack=True, title=\"Number of people\",\n",
    "           scale=alt.Scale(domain=(0, max_y))),\n",
    "    color=alt.Color(\"Country/Region:N\", legend=None),\n",
    "    tooltip=['Country/Region', 'Susceptible', 'Infected', 'Removed']\n",
    ")\n",
    "\n",
    "(stacked_rem + today_line).interactive()\\\n",
    ".properties(width=650, height=340)\\\n",
    ".properties(title='Recovered or dead')\\\n",
    ".configure_title(fontSize=20)"
   ]
  },
  {
   "cell_type": "markdown",
   "metadata": {},
   "source": [
    "## Methodology\n",
    "- I'm not an epidemiologist.\n",
    "- Tranmission rates calculation:\n",
    "    - Case growth rate is calculated over the 5 past days.\n",
    "    - Confidence bounds are calculated by from the weighted standard deviation of the growth rate over the last 5 days. Countries with highly noisy transmission rates are exluded from tranmission rate change tables (\"new waves\", \"slowing waves\"). \n",
    "    - Tranmission rate is calculated from cases growth rate by estimating the actively infected population change relative to the susceptible population.\n",
    "- Recovery rate (for estimating actively infected): \n",
    "  - Where the rate estimated from [Total Outstanding Cases](https://covid19dashboards.com/outstanding_cases/#Appendix:-Methodology-of-Predicting-Recovered-Cases) is too high (on down-slopes) recovery probability if 1/20 is used (equivalent 20 days to recover).\n",
    "- Total cases are estimated from the reported deaths for each country:\n",
    "    - Each country has different testing policy and capacity and cases are under-reported in some countries. Using an estimated IFR (fatality rate) we can estimate the number of cases some time ago by using the total deaths until today. We can than use this estimation to estimate the testing bias and multiply the current reported case numbers by that.\n",
    "    - IFRs for each country is estimated using the age IFRs from [May 1 New York paper](https://papers.ssrn.com/sol3/papers.cfm?abstract_id=3590771) and [UN demographic data for 2020](https://population.un.org/wpp/Download/Standard/Population/). These IFRs can be found in `df['age_adjusted_ifr']` column. Some examples: US - 0.98%, UK - 1.1%, Qatar - 0.25%, Italy - 1.4%, Japan - 1.6%.\n",
    "    - The average fatality lag is assumed to be 8 days on average for a case to go from being confirmed positive (after incubation + testing lag) to death. This is the same figure used by [\"Estimating The Infected Population From Deaths\"](https://covid19dashboards.com/covid-infected/).\n",
    "    - Testing bias: the actual lagged fatality rate is than divided by the IFR to estimate the testing bias in a country. The estimated testing bias then multiplies the reported case numbers to estimate the *true* case numbers (*=case numbers if testing coverage was as comprehensive as in the heavily tested countries*).\n",
    "- ICU need is calculated and age-adjusted as follows:\n",
    "    - UK ICU ratio was reported as [4.4% of active reported cases](https://www.imperial.ac.uk/media/imperial-college/medicine/sph/ide/gida-fellowships/Imperial-College-COVID19-NPI-modelling-16-03-2020.pdf).\n",
    "    - Using UKs ICU ratio and IFRs corrected for age demographics we can estimate each country's ICU ratio (the number of cases requiring ICU hospitalisation). For example using the IFR ratio between UK and Qatar to devide UK's 4.4% we get an ICU ratio of around 1% for Qatar which is also the ratio [they report to WHO here](https://apps.who.int/gb/COVID-19/pdf_files/30_04/Qatar.pdf).\n",
    "    - The ICU need is calculated from reported cases rather than from total estimated active cases. This is because the ICU ratio (4.4%) is based on reported cases."
   ]
  }
 ],
 "metadata": {
  "jupytext": {
   "encoding": "# -*- coding: utf-8 -*-",
   "formats": "ipynb,py:light",
   "text_representation": {
    "extension": ".py",
    "format_name": "light",
    "format_version": "1.5",
    "jupytext_version": "1.4.1"
   }
  },
  "kernelspec": {
   "display_name": "Python 3",
   "language": "python",
   "name": "python3"
  },
  "language_info": {
   "codemirror_mode": {
    "name": "ipython",
    "version": 3
   },
   "file_extension": ".py",
   "mimetype": "text/x-python",
   "name": "python",
   "nbconvert_exporter": "python",
   "pygments_lexer": "ipython3",
   "version": "3.7.7"
  }
 },
 "nbformat": 4,
 "nbformat_minor": 4
}
